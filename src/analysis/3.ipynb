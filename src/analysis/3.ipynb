{
 "cells": [
  {
   "cell_type": "code",
   "execution_count": 1,
   "metadata": {},
   "outputs": [],
   "source": [
    "import os"
   ]
  },
  {
   "cell_type": "code",
   "execution_count": 4,
   "metadata": {},
   "outputs": [
    {
     "name": "stdout",
     "output_type": "stream",
     "text": [
      "['1609E: rating=2400, count=50\\n', '1641D: rating=2700, count=47\\n', '1615E: rating=2400, count=46\\n', '1696F: rating=2600, count=44\\n', '1672F2: rating=2800, count=44\\n', '1656F: rating=2600, count=44\\n', '1556F: rating=2500, count=44\\n', '1672H: rating=2700, count=43\\n', '1515F: rating=2600, count=43\\n', '1693D: rating=2800, count=41\\n', '1628D2: rating=2400, count=41\\n', '526F: rating=3000, count=41\\n', '1648D: rating=2800, count=41\\n', '1630D: rating=2400, count=40\\n', '438E: rating=3100, count=40\\n', '1601D: rating=2700, count=40\\n', '700E: rating=3300, count=40\\n', '1710C: rating=2500, count=40\\n', '1637F: rating=2500, count=39\\n', '1528D: rating=2500, count=39\\n']\n"
     ]
    }
   ],
   "source": [
    "with open('1.txt', 'r') as f:\n",
    "    lines = f.readlines()[:20]\n",
    "    \n",
    "print(lines)"
   ]
  },
  {
   "cell_type": "code",
   "execution_count": 7,
   "metadata": {},
   "outputs": [],
   "source": [
    "# extract 1609E: rating=2400, count=50\n",
    "a, b, c = [], [], []\n",
    "for line in lines:\n",
    "    problem_id = line.split(':')[0]\n",
    "    rating = int(line.split()[1].split('=')[1][:-1])\n",
    "    count = int(line.split()[2].split('=')[1])\n",
    "    a.append(problem_id)\n",
    "    b.append(rating)\n",
    "    c.append(count)"
   ]
  }
 ],
 "metadata": {
  "kernelspec": {
   "display_name": "sevir_challenges",
   "language": "python",
   "name": "python3"
  },
  "language_info": {
   "codemirror_mode": {
    "name": "ipython",
    "version": 3
   },
   "file_extension": ".py",
   "mimetype": "text/x-python",
   "name": "python",
   "nbconvert_exporter": "python",
   "pygments_lexer": "ipython3",
   "version": "3.11.9"
  }
 },
 "nbformat": 4,
 "nbformat_minor": 2
}
